{
  "nbformat": 4,
  "nbformat_minor": 0,
  "metadata": {
    "colab": {
      "name": "Untitled0.ipynb",
      "provenance": [],
      "collapsed_sections": [],
      "authorship_tag": "ABX9TyMXF6fHoJBcju3IBZyKenf4",
      "include_colab_link": true
    },
    "kernelspec": {
      "name": "python3",
      "display_name": "Python 3"
    }
  },
  "cells": [
    {
      "cell_type": "markdown",
      "metadata": {
        "id": "view-in-github",
        "colab_type": "text"
      },
      "source": [
        "<a href=\"https://colab.research.google.com/github/pavan-code/python/blob/master/infytq_1.ipynb\" target=\"_parent\"><img src=\"https://colab.research.google.com/assets/colab-badge.svg\" alt=\"Open In Colab\"/></a>"
      ]
    },
    {
      "cell_type": "code",
      "metadata": {
        "id": "z7VSByvy0S36",
        "colab_type": "code",
        "colab": {
          "base_uri": "https://localhost:8080/",
          "height": 51
        },
        "outputId": "bc415e84-03b6-4c1e-d98a-51bb1077e589"
      },
      "source": [
        "str = list(input())\n",
        "s=''\n",
        "for i in range(len(str)-1,-1,-1):\n",
        "    if str[i].isalpha():\n",
        "        s+=str[i]\n",
        "j=0\n",
        "for i in range(len(str)):\n",
        "    if str[i].isalpha():\n",
        "        str[i]=s[j]\n",
        "        j+=1\n",
        "print(''.join(str))"
      ],
      "execution_count": 12,
      "outputs": [
        {
          "output_type": "stream",
          "text": [
            "ab@cd#ef$gh\n",
            "hg@fe#dc$ba\n"
          ],
          "name": "stdout"
        }
      ]
    }
  ]
}