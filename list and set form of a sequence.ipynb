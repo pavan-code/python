{
  "nbformat": 4,
  "nbformat_minor": 0,
  "metadata": {
    "colab": {
      "name": "Untitled0.ipynb",
      "provenance": [],
      "collapsed_sections": [],
      "authorship_tag": "ABX9TyPrliXH+LazZiaEkavjttSt",
      "include_colab_link": true
    },
    "kernelspec": {
      "name": "python3",
      "display_name": "Python 3"
    }
  },
  "cells": [
    {
      "cell_type": "markdown",
      "metadata": {
        "id": "view-in-github",
        "colab_type": "text"
      },
      "source": [
        "<a href=\"https://colab.research.google.com/github/pavan-code/python/blob/master/list%20and%20set%20form%20of%20a%20sequence.ipynb\" target=\"_parent\"><img src=\"https://colab.research.google.com/assets/colab-badge.svg\" alt=\"Open In Colab\"/></a>"
      ]
    },
    {
      "cell_type": "code",
      "metadata": {
        "id": "UYoEYyQ_jm39",
        "colab_type": "code",
        "colab": {
          "base_uri": "https://localhost:8080/",
          "height": 85
        },
        "outputId": "3ada300b-76aa-4bbc-f880-f88a5e2ac35c"
      },
      "source": [
        "sequence = list(map(str, input().split(',')))\n",
        "print('Entered sequence is :',' '.join(map(str, sequence)))\n",
        "print('List form of given sequence is: ',sequence)\n",
        "print('Set form of given sequence is: ',set(sequence))"
      ],
      "execution_count": 15,
      "outputs": [
        {
          "output_type": "stream",
          "text": [
            "1,2,3,4,5\n",
            "Entered sequence is : 1 2 3 4 5\n",
            "List form of given sequence is:  ['1', '2', '3', '4', '5']\n",
            "Set form of given sequence is:  {'5', '1', '3', '4', '2'}\n"
          ],
          "name": "stdout"
        }
      ]
    }
  ]
}