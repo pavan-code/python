{
  "nbformat": 4,
  "nbformat_minor": 0,
  "metadata": {
    "colab": {
      "name": "Untitled0.ipynb",
      "provenance": [],
      "collapsed_sections": [],
      "authorship_tag": "ABX9TyPI+WY0mY2TupHNgZ8UGxxW",
      "include_colab_link": true
    },
    "kernelspec": {
      "name": "python3",
      "display_name": "Python 3"
    }
  },
  "cells": [
    {
      "cell_type": "markdown",
      "metadata": {
        "id": "view-in-github",
        "colab_type": "text"
      },
      "source": [
        "<a href=\"https://colab.research.google.com/github/pavan-code/python/blob/master/longest%20increasing%20sub%20sequence.ipynb\" target=\"_parent\"><img src=\"https://colab.research.google.com/assets/colab-badge.svg\" alt=\"Open In Colab\"/></a>"
      ]
    },
    {
      "cell_type": "code",
      "metadata": {
        "id": "bx3XJyU1X-D8",
        "colab_type": "code",
        "colab": {
          "base_uri": "https://localhost:8080/",
          "height": 85
        },
        "outputId": "d7fd4b82-2e91-48a9-829f-221b8aafff42"
      },
      "source": [
        "n=int(input('Enter the length of the list of numbers: '))\n",
        "l = list(map(int, input('Enter the list of numbers space seperated: ').split()))\n",
        "lis = [1]*n\n",
        "print('Entered list is :', l)\n",
        "for i in range(n):\n",
        "    for j in range(i+1):\n",
        "        if l[i]>l[j]:\n",
        "            lis[i]=max(lis[j]+1,lis[i])\n",
        "print('Length of the longest increasing sub sequence is : ',max(lis))"
      ],
      "execution_count": 16,
      "outputs": [
        {
          "output_type": "stream",
          "text": [
            "Enter the length of the list of numbers: 8\n",
            "Enter the list of numbers space seperated: 10 22 9 33 21 50 41 60\n",
            "Entered list is : [10, 22, 9, 33, 21, 50, 41, 60]\n",
            "Length of the longest increasing sub sequence is :  5\n"
          ],
          "name": "stdout"
        }
      ]
    }
  ]
}