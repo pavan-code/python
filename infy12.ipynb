{
  "nbformat": 4,
  "nbformat_minor": 0,
  "metadata": {
    "colab": {
      "name": "Untitled0.ipynb",
      "provenance": [],
      "collapsed_sections": [],
      "authorship_tag": "ABX9TyNzfK/GL6+2qhf+Y6KbRxJn",
      "include_colab_link": true
    },
    "kernelspec": {
      "name": "python3",
      "display_name": "Python 3"
    }
  },
  "cells": [
    {
      "cell_type": "markdown",
      "metadata": {
        "id": "view-in-github",
        "colab_type": "text"
      },
      "source": [
        "<a href=\"https://colab.research.google.com/github/pavan-code/python/blob/master/infy12.ipynb\" target=\"_parent\"><img src=\"https://colab.research.google.com/assets/colab-badge.svg\" alt=\"Open In Colab\"/></a>"
      ]
    },
    {
      "cell_type": "code",
      "metadata": {
        "id": "arvJTSj44QNy",
        "colab_type": "code",
        "outputId": "12cc677c-8173-4cd6-c30c-f372f852e927",
        "colab": {
          "base_uri": "https://localhost:8080/",
          "height": 34
        }
      },
      "source": [
        "from collections import Counter\n",
        "s = \"HeLloOWorLDd\"\n",
        "lo = list(s.lower())\n",
        "d = Counter(lo)\n",
        "key = list(d.keys())\n",
        "d = {k:'' for k in key}\n",
        "for i in key :\n",
        "    for j in lo :\n",
        "        if i == j :            \n",
        "            d[i] += s[lo.index(i)]\n",
        "            lo[lo.index(j)]='@'\n",
        "lc = []\n",
        "l = list(d.values())\n",
        "co = list(d.values())\n",
        "for i in range(len(l)) :\n",
        "    lc.append(l[i].lower())\n",
        "    l[i] = l[i].lower()\n",
        "lc.sort()\n",
        "new = []\n",
        "for i in lc :\n",
        "    new.append(co[l.index(i)])\n",
        "for i in range(len(new)//2):\n",
        "    print(new[i],new[-(i+1)], sep = '', end= '')\n",
        "if len(new)%2!=0 :\n",
        "    print(new[len(new)//2])\n"
      ],
      "execution_count": 46,
      "outputs": [
        {
          "output_type": "stream",
          "text": [
            "DdWerHoOoLlL\n"
          ],
          "name": "stdout"
        }
      ]
    },
    {
      "cell_type": "code",
      "metadata": {
        "id": "omYC8Och-CFo",
        "colab_type": "code",
        "colab": {}
      },
      "source": [
        ""
      ],
      "execution_count": 0,
      "outputs": []
    }
  ]
}