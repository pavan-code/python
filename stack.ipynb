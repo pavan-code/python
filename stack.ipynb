{
  "nbformat": 4,
  "nbformat_minor": 0,
  "metadata": {
    "colab": {
      "name": "Untitled0.ipynb",
      "provenance": [],
      "collapsed_sections": [],
      "authorship_tag": "ABX9TyPNrAy33c6z8xdZhJpep/pQ",
      "include_colab_link": true
    },
    "kernelspec": {
      "name": "python3",
      "display_name": "Python 3"
    }
  },
  "cells": [
    {
      "cell_type": "markdown",
      "metadata": {
        "id": "view-in-github",
        "colab_type": "text"
      },
      "source": [
        "<a href=\"https://colab.research.google.com/github/pavan-code/python/blob/master/stack.ipynb\" target=\"_parent\"><img src=\"https://colab.research.google.com/assets/colab-badge.svg\" alt=\"Open In Colab\"/></a>"
      ]
    },
    {
      "cell_type": "markdown",
      "metadata": {
        "id": "3WBvsYFd2Np8",
        "colab_type": "text"
      },
      "source": [
        ""
      ]
    },
    {
      "cell_type": "code",
      "metadata": {
        "id": "4-J7KxrZ2OS0",
        "colab_type": "code",
        "outputId": "74dc0c17-d029-4d20-e296-605450a32458",
        "colab": {
          "base_uri": "https://localhost:8080/",
          "height": 136
        }
      },
      "source": [
        "class Stack :\n",
        "    def __init__(self, max_size) :\n",
        "        self.__max_size = max_size\n",
        "        self.elements = [None]*self.__max_size\n",
        "        self.__top = -1\n",
        "\n",
        "    def push(self, ele) :\n",
        "        if self.__top == self.__max_size -1 :\n",
        "            print('stack overflow')\n",
        "        else:\n",
        "            self.__top += 1\n",
        "            self.elements[self.__top] = ele\n",
        "\n",
        "    def pop(self):\n",
        "        if self.__top < 0 :\n",
        "            print('stack is empty!!')\n",
        "        else:\n",
        "            print(self.elements[self.__top])\n",
        "            self.__top-=1\n",
        "\n",
        "    def display(self) :\n",
        "        if self.__top == -1 :\n",
        "            print('no elements in the stack to display')\n",
        "        else :\n",
        "            for i in range(self.__top,-1,-1):\n",
        "                print(self.elements[i], end=' ')\n",
        "\n",
        "stack = Stack(5)\n",
        "stack.push(3)\n",
        "stack.push(4)\n",
        "stack.push(5)\n",
        "stack.push(6)\n",
        "stack.push(7)\n",
        "# stack.push(8)\n",
        "stack.pop()\n",
        "stack.pop()\n",
        "stack.pop()\n",
        "stack.pop()\n",
        "stack.pop()\n",
        "stack.pop()\n",
        "\n",
        "stack.display()"
      ],
      "execution_count": 0,
      "outputs": [
        {
          "output_type": "stream",
          "text": [
            "7\n",
            "6\n",
            "5\n",
            "4\n",
            "3\n",
            "stack is empty!!\n",
            "no elements in the stack to display\n"
          ],
          "name": "stdout"
        }
      ]
    }
  ]
}