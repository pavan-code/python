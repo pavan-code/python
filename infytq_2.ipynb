{
  "nbformat": 4,
  "nbformat_minor": 0,
  "metadata": {
    "colab": {
      "name": "Untitled0.ipynb",
      "provenance": [],
      "collapsed_sections": [],
      "authorship_tag": "ABX9TyOPpSE9PXZDCGUvONkdCu22",
      "include_colab_link": true
    },
    "kernelspec": {
      "name": "python3",
      "display_name": "Python 3"
    }
  },
  "cells": [
    {
      "cell_type": "markdown",
      "metadata": {
        "id": "view-in-github",
        "colab_type": "text"
      },
      "source": [
        "<a href=\"https://colab.research.google.com/github/pavan-code/python/blob/master/infytq_2.ipynb\" target=\"_parent\"><img src=\"https://colab.research.google.com/assets/colab-badge.svg\" alt=\"Open In Colab\"/></a>"
      ]
    },
    {
      "cell_type": "code",
      "metadata": {
        "id": "dbefTwya4RQC",
        "colab_type": "code",
        "colab": {
          "base_uri": "https://localhost:8080/",
          "height": 34
        },
        "outputId": "27abb77c-3b22-4699-fe9b-662e9045c564"
      },
      "source": [
        "n=4\n",
        "l=['abhishek:34848', 'mayur:4739', 'friends:2949', 'yeah:9889']\n",
        "for i in l:\n",
        "    s,c=i.split(':')\n",
        "    le=len(s)\n",
        "    c=sorted(c)\n",
        "    for i in range(len(c)):\n",
        "        if int(c[i])>le:\n",
        "            break\n",
        "    if int(c[i-1])-1 <le:\n",
        "        print(s[int(c[i-1])-1],end='')\n",
        "    else:\n",
        "        print('X')\n",
        "\n",
        "    "
      ],
      "execution_count": 33,
      "outputs": [
        {
          "output_type": "stream",
          "text": [
            "kueX\n"
          ],
          "name": "stdout"
        }
      ]
    }
  ]
}