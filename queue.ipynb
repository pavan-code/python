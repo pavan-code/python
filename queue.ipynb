{
  "nbformat": 4,
  "nbformat_minor": 0,
  "metadata": {
    "colab": {
      "name": "Untitled0.ipynb",
      "provenance": [],
      "collapsed_sections": [],
      "authorship_tag": "ABX9TyMm3Ibu3y/JZkpehvY0OlOQ",
      "include_colab_link": true
    },
    "kernelspec": {
      "name": "python3",
      "display_name": "Python 3"
    }
  },
  "cells": [
    {
      "cell_type": "markdown",
      "metadata": {
        "id": "view-in-github",
        "colab_type": "text"
      },
      "source": [
        "<a href=\"https://colab.research.google.com/github/pavan-code/python/blob/master/queue.ipynb\" target=\"_parent\"><img src=\"https://colab.research.google.com/assets/colab-badge.svg\" alt=\"Open In Colab\"/></a>"
      ]
    },
    {
      "cell_type": "markdown",
      "metadata": {
        "id": "3WBvsYFd2Np8",
        "colab_type": "text"
      },
      "source": [
        ""
      ]
    },
    {
      "cell_type": "code",
      "metadata": {
        "id": "uqeqOOKBhrcx",
        "colab_type": "code",
        "colab": {
          "base_uri": "https://localhost:8080/",
          "height": 204
        },
        "outputId": "497a016b-75c9-4b0d-a827-e3374ded54d6"
      },
      "source": [
        "class Queue :\n",
        "    def __init__(self,size):\n",
        "        self.__size = size\n",
        "        self.__elements = [None]*size\n",
        "        self.__rear = -1\n",
        "        self.__front = 0\n",
        "    def enqueue(self, data):\n",
        "        if self.__rear == self.__size-1 :\n",
        "            print(\"queue is full\")\n",
        "        else:\n",
        "            self.__rear += 1\n",
        "            self.__elements[self.__rear] = data\n",
        "            print(data, \"is added to the queue.\")\n",
        "    def dequeue(self):\n",
        "        if self.__front > self.__rear :\n",
        "            print(\"queue is empty\")\n",
        "        else:\n",
        "            print(\"dequeued element is \",self.__elements[self.__front])\n",
        "            self.__front +=1\n",
        "    def display(self):\n",
        "        if self.__front > self.__rear :\n",
        "            print(\"no elements in the queue to display!!\")\n",
        "        else:\n",
        "            print(\"element in the queue are : \")\n",
        "            for i in range(self.__front, self.__rear + 1):\n",
        "                print(self.__elements[i], end=' ')\n",
        "\n",
        "queue = Queue(5)\n",
        "queue.enqueue(5)\n",
        "queue.enqueue(4)\n",
        "queue.enqueue(3)\n",
        "queue.enqueue(2)\n",
        "queue.enqueue(1)\n",
        "# queue.enqueue(0)\n",
        "queue.dequeue()\n",
        "queue.dequeue()\n",
        "queue.dequeue()\n",
        "queue.dequeue()\n",
        "queue.dequeue()\n",
        "queue.display()"
      ],
      "execution_count": 30,
      "outputs": [
        {
          "output_type": "stream",
          "text": [
            "5 is added to the queue.\n",
            "4 is added to the queue.\n",
            "3 is added to the queue.\n",
            "2 is added to the queue.\n",
            "1 is added to the queue.\n",
            "dequeued element is  5\n",
            "dequeued element is  4\n",
            "dequeued element is  3\n",
            "dequeued element is  2\n",
            "dequeued element is  1\n",
            "no elements in the queue to display!!\n"
          ],
          "name": "stdout"
        }
      ]
    }
  ]
}