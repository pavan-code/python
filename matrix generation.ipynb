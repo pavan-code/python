{
  "nbformat": 4,
  "nbformat_minor": 0,
  "metadata": {
    "colab": {
      "name": "Untitled0.ipynb",
      "provenance": [],
      "collapsed_sections": [],
      "authorship_tag": "ABX9TyMKTKcBBRij06TjXyaBUTNh",
      "include_colab_link": true
    },
    "kernelspec": {
      "name": "python3",
      "display_name": "Python 3"
    }
  },
  "cells": [
    {
      "cell_type": "markdown",
      "metadata": {
        "id": "view-in-github",
        "colab_type": "text"
      },
      "source": [
        "<a href=\"https://colab.research.google.com/github/pavan-code/python/blob/master/matrix%20generation.ipynb\" target=\"_parent\"><img src=\"https://colab.research.google.com/assets/colab-badge.svg\" alt=\"Open In Colab\"/></a>"
      ]
    },
    {
      "cell_type": "code",
      "metadata": {
        "id": "A8tlSvx1lsMn",
        "colab_type": "code",
        "colab": {
          "base_uri": "https://localhost:8080/",
          "height": 85
        },
        "outputId": "1ac5b60b-a2f1-40cd-f6f9-45c53bf8b735"
      },
      "source": [
        "import numpy as np\n",
        "r = int(input('Enter the number of rows of matrix: '))\n",
        "c = int(input('Enter the number of columns of matrix: '))\n",
        "mat = np.resize(np.zeros(r*c),(r,c))\n",
        "for i in range(r):\n",
        "  for j in range(c):\n",
        "    mat[i][j] = i*j\n",
        "print('Generated matrix is: \\n',mat)"
      ],
      "execution_count": 21,
      "outputs": [
        {
          "output_type": "stream",
          "text": [
            "Enter the number of rows of matrix: 1\n",
            "Enter the number of columns of matrix: 1\n",
            "Generated matrix is: \n",
            " [[0.]]\n"
          ],
          "name": "stdout"
        }
      ]
    }
  ]
}