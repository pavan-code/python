{
  "nbformat": 4,
  "nbformat_minor": 0,
  "metadata": {
    "colab": {
      "name": "Untitled0.ipynb",
      "provenance": [],
      "collapsed_sections": [],
      "authorship_tag": "ABX9TyOHeALp/ZqquxYH6JDnksSA",
      "include_colab_link": true
    },
    "kernelspec": {
      "name": "python3",
      "display_name": "Python 3"
    }
  },
  "cells": [
    {
      "cell_type": "markdown",
      "metadata": {
        "id": "view-in-github",
        "colab_type": "text"
      },
      "source": [
        "<a href=\"https://colab.research.google.com/github/pavan-code/python/blob/master/py2.ipynb\" target=\"_parent\"><img src=\"https://colab.research.google.com/assets/colab-badge.svg\" alt=\"Open In Colab\"/></a>"
      ]
    },
    {
      "cell_type": "code",
      "metadata": {
        "id": "gENIpl9reX-1",
        "colab_type": "code",
        "colab": {
          "base_uri": "https://localhost:8080/",
          "height": 51
        },
        "outputId": "5c1874e9-8e6c-4956-c5f5-f8bc272fc653"
      },
      "source": [
        "n=int(input('Enter the number to find its factorial: '))\n",
        "f=1\n",
        "while n > 0 :\n",
        "  f *= n\n",
        "  n -= 1\n",
        "print('The factorial of {} is {}'.format(n,f))  "
      ],
      "execution_count": 4,
      "outputs": [
        {
          "output_type": "stream",
          "text": [
            "Enter the number to find its factorial: 10\n",
            "The factorial of 0 is 3628800\n"
          ],
          "name": "stdout"
        }
      ]
    }
  ]
}
